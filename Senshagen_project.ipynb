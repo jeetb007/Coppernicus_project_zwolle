{
  "nbformat": 4,
  "nbformat_minor": 0,
  "metadata": {
    "colab": {
      "name": "Senshagen project.ipynb",
      "provenance": [],
      "collapsed_sections": [],
      "toc_visible": true,
      "include_colab_link": true
    },
    "kernelspec": {
      "name": "python3",
      "display_name": "Python 3"
    }
  },
  "cells": [
    {
      "cell_type": "markdown",
      "metadata": {
        "id": "view-in-github",
        "colab_type": "text"
      },
      "source": [
        "<a href=\"https://colab.research.google.com/github/yttehs123/Coppernicus_project_zwolle/blob/main/Senshagen_project.ipynb\" target=\"_parent\"><img src=\"https://colab.research.google.com/assets/colab-badge.svg\" alt=\"Open In Colab\"/></a>"
      ]
    },
    {
      "cell_type": "markdown",
      "metadata": {
        "id": "xpAuMVCwfWs8"
      },
      "source": [
        "# Recurrent Neural Network"
      ]
    },
    {
      "cell_type": "markdown",
      "metadata": {
        "id": "nxJfRe4bfYVA"
      },
      "source": [
        "## Part 1 - Data Preprocessing"
      ]
    },
    {
      "cell_type": "markdown",
      "metadata": {
        "id": "ir9zwETrfbrp"
      },
      "source": [
        "### Importing the libraries"
      ]
    },
    {
      "cell_type": "code",
      "metadata": {
        "id": "_kToJc6mYZag"
      },
      "source": [
        "import numpy as np\n",
        "import matplotlib.pyplot as plt\n",
        "import pandas as pd\n",
        "import datetime as dt"
      ],
      "execution_count": 6,
      "outputs": []
    },
    {
      "cell_type": "markdown",
      "metadata": {
        "id": "nQ47JAxrgmaL"
      },
      "source": [
        "### Importing the training set"
      ]
    },
    {
      "cell_type": "code",
      "metadata": {
        "id": "bqmvox1kZeUj"
      },
      "source": [
        "dataset_train = pd.read_csv(\"no2.csv\")\n",
        "\n"
      ],
      "execution_count": 4,
      "outputs": []
    },
    {
      "cell_type": "markdown",
      "metadata": {
        "id": "3XRVAxzO33b2"
      },
      "source": [
        "# Cleaning the data"
      ]
    },
    {
      "cell_type": "code",
      "metadata": {
        "id": "RWUNtCMo3y4l"
      },
      "source": [
        "col_to_remove_no2 =('wkt_geom', 'id', 'timestam_1', 'unit_NO2', 'unit_PM10', 'unit_RH', 'unit_P', 'value_PM10', 'value_RH', 'value_P')\n",
        "for name in col_to_remove_no2:\n",
        "  if name in dataset_train.columns:\n",
        "    dataset_train = dataset_train.drop(name,1)\n",
        "\n",
        "\n",
        "dates=[]\n",
        "for i in range(len(dataset_train)):\n",
        "  dates.append(dataset_train['timestamp_'][i])\n",
        "\n",
        "cleaned_dates_no2=[]\n",
        "for date in dates:\n",
        "  value = dt.datetime.strptime(date, '%Y-%m-%d')\n",
        "  cleaned_dates_no2.append(value)\n",
        "dates=[] #emptying list\n",
        "\n",
        "dataset_train['dates'] = cleaned_dates_no2"
      ],
      "execution_count": 7,
      "outputs": []
    },
    {
      "cell_type": "code",
      "metadata": {
        "id": "TtoSwidM4OWd",
        "outputId": "7763c2ff-6f7c-4e11-9ded-2a943e56bd4e",
        "colab": {
          "base_uri": "https://localhost:8080/",
          "height": 255
        }
      },
      "source": [
        "##creating list of dataframes for each no2 sensor\n",
        "no2_sensors = dataset_train.label.unique()\n",
        "\n",
        "dataset_per_no2_sensor =[] #list of dataframes for each NO2 sensor\n",
        "\n",
        "for sensor in no2_sensors:\n",
        "  dataset_per_no2_sensor.append(dataset_train.loc[dataset_train['label'] == sensor])\n",
        "\n",
        "print(dataset_per_no2_sensor[0])"
      ],
      "execution_count": 134,
      "outputs": [
        {
          "output_type": "stream",
          "text": [
            "        label  timestamp_  value_NO2      dates\n",
            "0       PZ001  2018-05-31    48.2300 2018-05-31\n",
            "1       PZ001  2018-05-31    33.9000 2018-05-31\n",
            "2       PZ001  2018-05-31    33.9000 2018-05-31\n",
            "3       PZ001  2018-05-31    17.4800 2018-05-31\n",
            "4       PZ001  2018-05-31    17.4800 2018-05-31\n",
            "...       ...         ...        ...        ...\n",
            "68603   PZ001  2018-12-23    23.8244 2018-12-23\n",
            "68619   PZ001  2018-12-23    23.8244 2018-12-23\n",
            "72272   PZ001  2018-12-23    23.8244 2018-12-23\n",
            "72291   PZ001  2018-12-23    23.8244 2018-12-23\n",
            "113389  PZ001  2018-12-23    23.8244 2018-12-23\n",
            "\n",
            "[3618 rows x 4 columns]\n"
          ],
          "name": "stdout"
        }
      ]
    },
    {
      "cell_type": "code",
      "metadata": {
        "id": "e9auvdML3Qm1",
        "outputId": "48fbe982-fdc4-440e-a052-d8b1edee8641",
        "colab": {
          "base_uri": "https://localhost:8080/",
          "height": 136
        }
      },
      "source": [
        "#CHECKING AND MITIGATING FOR NAN VALUES\n",
        "window_size = 20 #select a window size to calculate average values for cells with no data\n",
        "count =0\n",
        "for dataset in dataset_per_no2_sensor: \n",
        "  for r in range(len(dataset)):\n",
        "    if np.isnan(dataset.iloc[r,2]):\n",
        "      count+=1\n",
        "     # print(np.isnan(dataset.iloc[r,2]))\n",
        "      window = range(window_size, -window_size)\n",
        "      mean_values=[]\n",
        "      for w in window:\n",
        "        if dataset.iloc[r+w,2] >=0:\n",
        "          mean_values.append(dataset.iloc[r+w,2])\n",
        "        if len(mean_values)!=0:\n",
        "          mean = (sum(mean_values))/len(mean_values)\n",
        "          dataset.iloc[r,2]=mean\n",
        "    if np.isnan(dataset.iloc[r,2]) :\n",
        "      mean = dataset['value_NO2'].mean()\n",
        "      dataset.iloc[r,2] = mean"
      ],
      "execution_count": 135,
      "outputs": [
        {
          "output_type": "stream",
          "text": [
            "/usr/local/lib/python3.6/dist-packages/pandas/core/indexing.py:1765: SettingWithCopyWarning: \n",
            "A value is trying to be set on a copy of a slice from a DataFrame.\n",
            "Try using .loc[row_indexer,col_indexer] = value instead\n",
            "\n",
            "See the caveats in the documentation: https://pandas.pydata.org/pandas-docs/stable/user_guide/indexing.html#returning-a-view-versus-a-copy\n",
            "  isetter(loc, value)\n"
          ],
          "name": "stderr"
        },
        {
          "output_type": "stream",
          "text": [
            "4046\n"
          ],
          "name": "stdout"
        }
      ]
    },
    {
      "cell_type": "code",
      "metadata": {
        "id": "Wyi3VtkJ81JO"
      },
      "source": [
        "#break into test and train dataset\n",
        "\n",
        "no2_train=[]\n",
        "no2_test=[]\n",
        "train_split_ratio = 0.8\n",
        "for dataset in dataset_per_no2_sensor:\n",
        "  print(dataset.isnull().any())\n",
        "  train_len = int(train_split_ratio*len(dataset))\n",
        "  test_len = len(dataset) - train_len\n",
        "\n",
        "  no2_train.append(dataset[:train_len])\n",
        "  no2_test.append(dataset[train_len:-1])\n",
        "\n"
      ],
      "execution_count": null,
      "outputs": []
    },
    {
      "cell_type": "code",
      "metadata": {
        "id": "lDJg8_KgNeIJ",
        "outputId": "aee1b579-a188-4775-c490-2178c168a7a9",
        "colab": {
          "base_uri": "https://localhost:8080/",
          "height": 51
        }
      },
      "source": [
        "\n"
      ],
      "execution_count": 121,
      "outputs": [
        {
          "output_type": "stream",
          "text": [
            "range(0, 20)\n",
            "range(0, 20)\n"
          ],
          "name": "stdout"
        }
      ]
    },
    {
      "cell_type": "code",
      "metadata": {
        "id": "G2EDrDOI3J0x",
        "outputId": "1ebfa025-eef0-448c-f00e-b0ecda22a09a",
        "colab": {
          "base_uri": "https://localhost:8080/",
          "height": 1000
        }
      },
      "source": [
        "from sklearn.preprocessing import MinMaxScaler, StandardScaler\n",
        "from keras.models import Sequential\n",
        "from keras.layers import Dense, LSTM, Dropout, Embedding\n",
        "from keras.regularizers import l2\n",
        "from tensorflow.keras import activations\n",
        "\n",
        "for i in range(len(no2_train)):\n",
        "  training_set = no2_train[i]\n",
        "  training_set= training_set.iloc[:,2:3].values\n",
        "\n",
        "\n",
        "  test_set = no2_test[i]\n",
        "  test_set= test_set.iloc[:,2:3].values\n",
        "\n",
        "  sc = MinMaxScaler(feature_range=(0,1))\n",
        "  training_set_sc = sc.fit_transform(training_set)  \n",
        "\n",
        "  print(training_set_sc)\n",
        "  print(len(training_set_sc))\n",
        "\n",
        "  x_train=[]\n",
        "  y_train=[]\n",
        "  for x in range(144, len(training_set)): \n",
        "    x_train.append(training_set_sc[x-144:x,0])#should make 1198 records:60 columns\n",
        "    y_train.append(training_set_sc[x,0])\n",
        "  x_train, y_train = np.array(x_train), np.array(y_train)\n",
        "\n",
        "  x_train = np.reshape(x_train, (x_train.shape[0], x_train.shape[1],1))# shape - batch_size, timestep, number of indicators\n",
        "\n",
        "  RNNregressor = Sequential()\n",
        "\n",
        "  RNNregressor.add(LSTM(units=50, return_sequences=True, input_shape=(x_train.shape[1],1)))\n",
        "  RNNregressor.add(Dropout(0.2))##20% dropout\n",
        "\n",
        "  RNNregressor.add(LSTM(units=50, return_sequences=True))\n",
        "  RNNregressor.add(Dropout(0.2))##20% dropout\n",
        "\n",
        "  RNNregressor.add(LSTM(units=50, return_sequences=True))\n",
        "  RNNregressor.add(Dropout(0.2))##20% dropout\n",
        "\n",
        "  RNNregressor.add(LSTM(units=50))\n",
        "  RNNregressor.add(Dropout(0.2))##20% dropout\n",
        "\n",
        "  RNNregressor.add(Dense(units=1))\n",
        "\n",
        "  RNNregressor.compile(optimizer = 'Adam', loss = 'mean_squared_error')#experiment with different optimizeers\n",
        "\n",
        "  RNNregressor.fit(x=x_train, y = y_train, epochs = 50, batch_size = 32 )\n",
        "\n",
        "  dataset_concat=dataset_per_no2_sensor[i]\n",
        "  dataset_concat = dataset_concat.iloc[:,2:3]\n",
        "\n",
        "\n",
        "  inputs = dataset_concat[len(dataset_concat)-len(test_set)-144 : ].values\n",
        "\n",
        "  inputs = inputs.reshape(-1,1)\n",
        "\n",
        "  inputs = sc.transform(inputs)\n",
        "\n",
        "  x_test=[]\n",
        "  for y in range(144, 144+120): #create upper bound for 20 financial days of jab 2k17, using timestep = 60\n",
        "    x_test.append(inputs[y-144:y,0])#should make 1198 records:60 columns\n",
        "  \n",
        "  x_test = np.array(x_test)\n",
        "  x_test = np.reshape(x_test, (x_test.shape[0], x_test.shape[1],1))# shape - batch_size, timestep, number of indicators\n",
        "\n",
        "  predicted_stock_price = RNNregressor.predict(x_test)\n",
        "  predicted_stock_price = sc.inverse_transform(predicted_stock_price)\n",
        "\n",
        "  plt.plot(test_set[0:120], color ='red', label = \"Real NO2\")\n",
        "  plt.plot(predicted_stock_price, color ='blue', label = \"predicted No2\")\n",
        "\n",
        "  plt.title('No2 prediction prediction')\n",
        "  plt.xlabel('records')\n",
        "  plt.ylabel('No2 levels')\n",
        "  plt.legend()\n",
        "  plt.show()\n",
        "\n",
        "\n",
        "  \n",
        "\n",
        "# Use range for columns to ensure the right shape of the data for the np array --- all rows:one column\n",
        "#we use the open column to decide the trends of the data"
      ],
      "execution_count": 160,
      "outputs": [
        {
          "output_type": "stream",
          "text": [
            "[[0.61415525]\n",
            " [0.42170293]\n",
            " [0.42170293]\n",
            " ...\n",
            " [0.40357239]\n",
            " [0.39833468]\n",
            " [0.35616438]]\n",
            "2894\n",
            "Epoch 1/50\n",
            "86/86 [==============================] - 17s 193ms/step - loss: 0.0145\n",
            "Epoch 2/50\n",
            "86/86 [==============================] - 17s 197ms/step - loss: 0.0113\n",
            "Epoch 3/50\n",
            "86/86 [==============================] - 18s 207ms/step - loss: 0.0111\n",
            "Epoch 4/50\n",
            "86/86 [==============================] - 17s 203ms/step - loss: 0.0115\n",
            "Epoch 5/50\n",
            "86/86 [==============================] - 18s 206ms/step - loss: 0.0106\n",
            "Epoch 6/50\n",
            "86/86 [==============================] - 18s 206ms/step - loss: 0.0102\n",
            "Epoch 7/50\n",
            "86/86 [==============================] - 18s 206ms/step - loss: 0.0101\n",
            "Epoch 8/50\n",
            "86/86 [==============================] - 18s 206ms/step - loss: 0.0096\n",
            "Epoch 9/50\n",
            "86/86 [==============================] - 18s 208ms/step - loss: 0.0095\n",
            "Epoch 10/50\n",
            "86/86 [==============================] - 18s 209ms/step - loss: 0.0092\n",
            "Epoch 11/50\n",
            "86/86 [==============================] - 18s 207ms/step - loss: 0.0092\n",
            "Epoch 12/50\n",
            "86/86 [==============================] - 18s 208ms/step - loss: 0.0088\n",
            "Epoch 13/50\n",
            "86/86 [==============================] - 18s 209ms/step - loss: 0.0087\n",
            "Epoch 14/50\n",
            "86/86 [==============================] - 18s 205ms/step - loss: 0.0084\n",
            "Epoch 15/50\n",
            "86/86 [==============================] - 18s 206ms/step - loss: 0.0074\n",
            "Epoch 16/50\n",
            "86/86 [==============================] - 17s 199ms/step - loss: 0.0069\n",
            "Epoch 17/50\n",
            "86/86 [==============================] - 17s 201ms/step - loss: 0.0064\n",
            "Epoch 18/50\n",
            "86/86 [==============================] - 17s 199ms/step - loss: 0.0061\n",
            "Epoch 19/50\n",
            "86/86 [==============================] - 17s 199ms/step - loss: 0.0058\n",
            "Epoch 20/50\n",
            "86/86 [==============================] - 18s 205ms/step - loss: 0.0054\n",
            "Epoch 21/50\n",
            "86/86 [==============================] - 17s 199ms/step - loss: 0.0055\n",
            "Epoch 22/50\n",
            "86/86 [==============================] - 17s 200ms/step - loss: 0.0053\n",
            "Epoch 23/50\n",
            "86/86 [==============================] - 17s 199ms/step - loss: 0.0051\n",
            "Epoch 24/50\n",
            "86/86 [==============================] - 17s 200ms/step - loss: 0.0051\n",
            "Epoch 25/50\n",
            "86/86 [==============================] - 17s 200ms/step - loss: 0.0050\n",
            "Epoch 26/50\n",
            "86/86 [==============================] - 17s 200ms/step - loss: 0.0049\n",
            "Epoch 27/50\n",
            "86/86 [==============================] - 17s 201ms/step - loss: 0.0048\n",
            "Epoch 28/50\n",
            "86/86 [==============================] - 17s 198ms/step - loss: 0.0050\n",
            "Epoch 29/50\n",
            "86/86 [==============================] - 17s 200ms/step - loss: 0.0048\n",
            "Epoch 30/50\n",
            "86/86 [==============================] - 17s 199ms/step - loss: 0.0047\n",
            "Epoch 31/50\n",
            "86/86 [==============================] - 17s 200ms/step - loss: 0.0048\n",
            "Epoch 32/50\n",
            "86/86 [==============================] - 18s 212ms/step - loss: 0.0046\n",
            "Epoch 33/50\n",
            "86/86 [==============================] - 17s 202ms/step - loss: 0.0046\n",
            "Epoch 34/50\n",
            "86/86 [==============================] - 17s 202ms/step - loss: 0.0046\n",
            "Epoch 35/50\n",
            "86/86 [==============================] - 17s 202ms/step - loss: 0.0047\n",
            "Epoch 36/50\n",
            "86/86 [==============================] - 17s 201ms/step - loss: 0.0045\n",
            "Epoch 37/50\n",
            "86/86 [==============================] - 17s 202ms/step - loss: 0.0047\n",
            "Epoch 38/50\n",
            "86/86 [==============================] - 17s 202ms/step - loss: 0.0045\n",
            "Epoch 39/50\n",
            "86/86 [==============================] - 17s 203ms/step - loss: 0.0046\n",
            "Epoch 40/50\n",
            "86/86 [==============================] - 18s 205ms/step - loss: 0.0045\n",
            "Epoch 41/50\n",
            "86/86 [==============================] - 18s 205ms/step - loss: 0.0045\n",
            "Epoch 42/50\n",
            "86/86 [==============================] - 18s 208ms/step - loss: 0.0044\n",
            "Epoch 43/50\n",
            "86/86 [==============================] - 18s 211ms/step - loss: 0.0044\n",
            "Epoch 44/50\n",
            "86/86 [==============================] - 19s 215ms/step - loss: 0.0045\n",
            "Epoch 45/50\n",
            "86/86 [==============================] - 17s 201ms/step - loss: 0.0043\n",
            "Epoch 46/50\n",
            "86/86 [==============================] - 17s 202ms/step - loss: 0.0044\n",
            "Epoch 47/50\n",
            "86/86 [==============================] - 17s 200ms/step - loss: 0.0044\n",
            "Epoch 48/50\n",
            "86/86 [==============================] - 17s 200ms/step - loss: 0.0043\n",
            "Epoch 49/50\n",
            "86/86 [==============================] - 17s 200ms/step - loss: 0.0043\n",
            "Epoch 50/50\n",
            "86/86 [==============================] - 17s 201ms/step - loss: 0.0044\n",
            "WARNING:tensorflow:5 out of the last 13 calls to <function Model.make_predict_function.<locals>.predict_function at 0x7fe877c85f28> triggered tf.function retracing. Tracing is expensive and the excessive number of tracings could be due to (1) creating @tf.function repeatedly in a loop, (2) passing tensors with different shapes, (3) passing Python objects instead of tensors. For (1), please define your @tf.function outside of the loop. For (2), @tf.function has experimental_relax_shapes=True option that relaxes argument shapes that can avoid unnecessary retracing. For (3), please refer to https://www.tensorflow.org/tutorials/customization/performance#python_or_tensor_args and https://www.tensorflow.org/api_docs/python/tf/function for  more details.\n"
          ],
          "name": "stdout"
        },
        {
          "output_type": "display_data",
          "data": {
            "image/png": "[encoded data removed]",
            "text/plain": [
              "<Figure size 432x288 with 1 Axes>"
            ]
          },
          "metadata": {
            "tags": [],
            "needs_background": "light"
          }
        },
        {
          "output_type": "stream",
          "text": [
            "[[0.1992395 ]\n",
            " [0.20329338]\n",
            " [0.21795889]\n",
            " ...\n",
            " [0.20803523]\n",
            " [0.19651863]\n",
            " [0.1806465 ]]\n",
            "5913\n",
            "Epoch 1/50\n",
            "181/181 [==============================] - 36s 202ms/step - loss: 0.0084\n",
            "Epoch 2/50\n",
            "181/181 [==============================] - 37s 204ms/step - loss: 0.0071\n",
            "Epoch 3/50\n",
            " 31/181 [====>.........................] - ETA: 29s - loss: 0.0077"
          ],
          "name": "stdout"
        },
        {
          "output_type": "error",
          "ename": "KeyboardInterrupt",
          "evalue": "ignored",
          "traceback": [
            "\u001b[0;31m---------------------------------------------------------------------------\u001b[0m",
            "\u001b[0;31mKeyboardInterrupt\u001b[0m                         Traceback (most recent call last)",
            "\u001b[0;32m<ipython-input-160-fefab45d488b>\u001b[0m in \u001b[0;36m<module>\u001b[0;34m()\u001b[0m\n\u001b[1;32m     46\u001b[0m   \u001b[0mRNNregressor\u001b[0m\u001b[0;34m.\u001b[0m\u001b[0mcompile\u001b[0m\u001b[0;34m(\u001b[0m\u001b[0moptimizer\u001b[0m \u001b[0;34m=\u001b[0m \u001b[0;34m'Adam'\u001b[0m\u001b[0;34m,\u001b[0m \u001b[0mloss\u001b[0m \u001b[0;34m=\u001b[0m \u001b[0;34m'mean_squared_error'\u001b[0m\u001b[0;34m)\u001b[0m\u001b[0;31m#experiment with different optimizeers\u001b[0m\u001b[0;34m\u001b[0m\u001b[0;34m\u001b[0m\u001b[0m\n\u001b[1;32m     47\u001b[0m \u001b[0;34m\u001b[0m\u001b[0m\n\u001b[0;32m---> 48\u001b[0;31m   \u001b[0mRNNregressor\u001b[0m\u001b[0;34m.\u001b[0m\u001b[0mfit\u001b[0m\u001b[0;34m(\u001b[0m\u001b[0mx\u001b[0m\u001b[0;34m=\u001b[0m\u001b[0mx_train\u001b[0m\u001b[0;34m,\u001b[0m \u001b[0my\u001b[0m \u001b[0;34m=\u001b[0m \u001b[0my_train\u001b[0m\u001b[0;34m,\u001b[0m \u001b[0mepochs\u001b[0m \u001b[0;34m=\u001b[0m \u001b[0;36m50\u001b[0m\u001b[0;34m,\u001b[0m \u001b[0mbatch_size\u001b[0m \u001b[0;34m=\u001b[0m \u001b[0;36m32\u001b[0m \u001b[0;34m)\u001b[0m\u001b[0;34m\u001b[0m\u001b[0;34m\u001b[0m\u001b[0m\n\u001b[0m\u001b[1;32m     49\u001b[0m \u001b[0;34m\u001b[0m\u001b[0m\n\u001b[1;32m     50\u001b[0m   \u001b[0mdataset_concat\u001b[0m\u001b[0;34m=\u001b[0m\u001b[0mdataset_per_no2_sensor\u001b[0m\u001b[0;34m[\u001b[0m\u001b[0mi\u001b[0m\u001b[0;34m]\u001b[0m\u001b[0;34m\u001b[0m\u001b[0;34m\u001b[0m\u001b[0m\n",
            "\u001b[0;32m/usr/local/lib/python3.6/dist-packages/tensorflow/python/keras/engine/training.py\u001b[0m in \u001b[0;36m_method_wrapper\u001b[0;34m(self, *args, **kwargs)\u001b[0m\n\u001b[1;32m    106\u001b[0m   \u001b[0;32mdef\u001b[0m \u001b[0m_method_wrapper\u001b[0m\u001b[0;34m(\u001b[0m\u001b[0mself\u001b[0m\u001b[0;34m,\u001b[0m \u001b[0;34m*\u001b[0m\u001b[0margs\u001b[0m\u001b[0;34m,\u001b[0m \u001b[0;34m**\u001b[0m\u001b[0mkwargs\u001b[0m\u001b[0;34m)\u001b[0m\u001b[0;34m:\u001b[0m\u001b[0;34m\u001b[0m\u001b[0;34m\u001b[0m\u001b[0m\n\u001b[1;32m    107\u001b[0m     \u001b[0;32mif\u001b[0m \u001b[0;32mnot\u001b[0m \u001b[0mself\u001b[0m\u001b[0;34m.\u001b[0m\u001b[0m_in_multi_worker_mode\u001b[0m\u001b[0;34m(\u001b[0m\u001b[0;34m)\u001b[0m\u001b[0;34m:\u001b[0m  \u001b[0;31m# pylint: disable=protected-access\u001b[0m\u001b[0;34m\u001b[0m\u001b[0;34m\u001b[0m\u001b[0m\n\u001b[0;32m--> 108\u001b[0;31m       \u001b[0;32mreturn\u001b[0m \u001b[0mmethod\u001b[0m\u001b[0;34m(\u001b[0m\u001b[0mself\u001b[0m\u001b[0;34m,\u001b[0m \u001b[0;34m*\u001b[0m\u001b[0margs\u001b[0m\u001b[0;34m,\u001b[0m \u001b[0;34m**\u001b[0m\u001b[0mkwargs\u001b[0m\u001b[0;34m)\u001b[0m\u001b[0;34m\u001b[0m\u001b[0;34m\u001b[0m\u001b[0m\n\u001b[0m\u001b[1;32m    109\u001b[0m \u001b[0;34m\u001b[0m\u001b[0m\n\u001b[1;32m    110\u001b[0m     \u001b[0;31m# Running inside `run_distribute_coordinator` already.\u001b[0m\u001b[0;34m\u001b[0m\u001b[0;34m\u001b[0m\u001b[0;34m\u001b[0m\u001b[0m\n",
            "\u001b[0;32m/usr/local/lib/python3.6/dist-packages/tensorflow/python/keras/engine/training.py\u001b[0m in \u001b[0;36mfit\u001b[0;34m(self, x, y, batch_size, epochs, verbose, callbacks, validation_split, validation_data, shuffle, class_weight, sample_weight, initial_epoch, steps_per_epoch, validation_steps, validation_batch_size, validation_freq, max_queue_size, workers, use_multiprocessing)\u001b[0m\n\u001b[1;32m   1096\u001b[0m                 batch_size=batch_size):\n\u001b[1;32m   1097\u001b[0m               \u001b[0mcallbacks\u001b[0m\u001b[0;34m.\u001b[0m\u001b[0mon_train_batch_begin\u001b[0m\u001b[0;34m(\u001b[0m\u001b[0mstep\u001b[0m\u001b[0;34m)\u001b[0m\u001b[0;34m\u001b[0m\u001b[0;34m\u001b[0m\u001b[0m\n\u001b[0;32m-> 1098\u001b[0;31m               \u001b[0mtmp_logs\u001b[0m \u001b[0;34m=\u001b[0m \u001b[0mtrain_function\u001b[0m\u001b[0;34m(\u001b[0m\u001b[0miterator\u001b[0m\u001b[0;34m)\u001b[0m\u001b[0;34m\u001b[0m\u001b[0;34m\u001b[0m\u001b[0m\n\u001b[0m\u001b[1;32m   1099\u001b[0m               \u001b[0;32mif\u001b[0m \u001b[0mdata_handler\u001b[0m\u001b[0;34m.\u001b[0m\u001b[0mshould_sync\u001b[0m\u001b[0;34m:\u001b[0m\u001b[0;34m\u001b[0m\u001b[0;34m\u001b[0m\u001b[0m\n\u001b[1;32m   1100\u001b[0m                 \u001b[0mcontext\u001b[0m\u001b[0;34m.\u001b[0m\u001b[0masync_wait\u001b[0m\u001b[0;34m(\u001b[0m\u001b[0;34m)\u001b[0m\u001b[0;34m\u001b[0m\u001b[0;34m\u001b[0m\u001b[0m\n",
            "\u001b[0;32m/usr/local/lib/python3.6/dist-packages/tensorflow/python/eager/def_function.py\u001b[0m in \u001b[0;36m__call__\u001b[0;34m(self, *args, **kwds)\u001b[0m\n\u001b[1;32m    778\u001b[0m       \u001b[0;32melse\u001b[0m\u001b[0;34m:\u001b[0m\u001b[0;34m\u001b[0m\u001b[0;34m\u001b[0m\u001b[0m\n\u001b[1;32m    779\u001b[0m         \u001b[0mcompiler\u001b[0m \u001b[0;34m=\u001b[0m \u001b[0;34m\"nonXla\"\u001b[0m\u001b[0;34m\u001b[0m\u001b[0;34m\u001b[0m\u001b[0m\n\u001b[0;32m--> 780\u001b[0;31m         \u001b[0mresult\u001b[0m \u001b[0;34m=\u001b[0m \u001b[0mself\u001b[0m\u001b[0;34m.\u001b[0m\u001b[0m_call\u001b[0m\u001b[0;34m(\u001b[0m\u001b[0;34m*\u001b[0m\u001b[0margs\u001b[0m\u001b[0;34m,\u001b[0m \u001b[0;34m**\u001b[0m\u001b[0mkwds\u001b[0m\u001b[0;34m)\u001b[0m\u001b[0;34m\u001b[0m\u001b[0;34m\u001b[0m\u001b[0m\n\u001b[0m\u001b[1;32m    781\u001b[0m \u001b[0;34m\u001b[0m\u001b[0m\n\u001b[1;32m    782\u001b[0m       \u001b[0mnew_tracing_count\u001b[0m \u001b[0;34m=\u001b[0m \u001b[0mself\u001b[0m\u001b[0;34m.\u001b[0m\u001b[0m_get_tracing_count\u001b[0m\u001b[0;34m(\u001b[0m\u001b[0;34m)\u001b[0m\u001b[0;34m\u001b[0m\u001b[0;34m\u001b[0m\u001b[0m\n",
            "\u001b[0;32m/usr/local/lib/python3.6/dist-packages/tensorflow/python/eager/def_function.py\u001b[0m in \u001b[0;36m_call\u001b[0;34m(self, *args, **kwds)\u001b[0m\n\u001b[1;32m    805\u001b[0m       \u001b[0;31m# In this case we have created variables on the first call, so we run the\u001b[0m\u001b[0;34m\u001b[0m\u001b[0;34m\u001b[0m\u001b[0;34m\u001b[0m\u001b[0m\n\u001b[1;32m    806\u001b[0m       \u001b[0;31m# defunned version which is guaranteed to never create variables.\u001b[0m\u001b[0;34m\u001b[0m\u001b[0;34m\u001b[0m\u001b[0;34m\u001b[0m\u001b[0m\n\u001b[0;32m--> 807\u001b[0;31m       \u001b[0;32mreturn\u001b[0m \u001b[0mself\u001b[0m\u001b[0;34m.\u001b[0m\u001b[0m_stateless_fn\u001b[0m\u001b[0;34m(\u001b[0m\u001b[0;34m*\u001b[0m\u001b[0margs\u001b[0m\u001b[0;34m,\u001b[0m \u001b[0;34m**\u001b[0m\u001b[0mkwds\u001b[0m\u001b[0;34m)\u001b[0m  \u001b[0;31m# pylint: disable=not-callable\u001b[0m\u001b[0;34m\u001b[0m\u001b[0;34m\u001b[0m\u001b[0m\n\u001b[0m\u001b[1;32m    808\u001b[0m     \u001b[0;32melif\u001b[0m \u001b[0mself\u001b[0m\u001b[0;34m.\u001b[0m\u001b[0m_stateful_fn\u001b[0m \u001b[0;32mis\u001b[0m \u001b[0;32mnot\u001b[0m \u001b[0;32mNone\u001b[0m\u001b[0;34m:\u001b[0m\u001b[0;34m\u001b[0m\u001b[0;34m\u001b[0m\u001b[0m\n\u001b[1;32m    809\u001b[0m       \u001b[0;31m# Release the lock early so that multiple threads can perform the call\u001b[0m\u001b[0;34m\u001b[0m\u001b[0;34m\u001b[0m\u001b[0;34m\u001b[0m\u001b[0m\n",
            "\u001b[0;32m/usr/local/lib/python3.6/dist-packages/tensorflow/python/eager/function.py\u001b[0m in \u001b[0;36m__call__\u001b[0;34m(self, *args, **kwargs)\u001b[0m\n\u001b[1;32m   2827\u001b[0m     \u001b[0;32mwith\u001b[0m \u001b[0mself\u001b[0m\u001b[0;34m.\u001b[0m\u001b[0m_lock\u001b[0m\u001b[0;34m:\u001b[0m\u001b[0;34m\u001b[0m\u001b[0;34m\u001b[0m\u001b[0m\n\u001b[1;32m   2828\u001b[0m       \u001b[0mgraph_function\u001b[0m\u001b[0;34m,\u001b[0m \u001b[0margs\u001b[0m\u001b[0;34m,\u001b[0m \u001b[0mkwargs\u001b[0m \u001b[0;34m=\u001b[0m \u001b[0mself\u001b[0m\u001b[0;34m.\u001b[0m\u001b[0m_maybe_define_function\u001b[0m\u001b[0;34m(\u001b[0m\u001b[0margs\u001b[0m\u001b[0;34m,\u001b[0m \u001b[0mkwargs\u001b[0m\u001b[0;34m)\u001b[0m\u001b[0;34m\u001b[0m\u001b[0;34m\u001b[0m\u001b[0m\n\u001b[0;32m-> 2829\u001b[0;31m     \u001b[0;32mreturn\u001b[0m \u001b[0mgraph_function\u001b[0m\u001b[0;34m.\u001b[0m\u001b[0m_filtered_call\u001b[0m\u001b[0;34m(\u001b[0m\u001b[0margs\u001b[0m\u001b[0;34m,\u001b[0m \u001b[0mkwargs\u001b[0m\u001b[0;34m)\u001b[0m  \u001b[0;31m# pylint: disable=protected-access\u001b[0m\u001b[0;34m\u001b[0m\u001b[0;34m\u001b[0m\u001b[0m\n\u001b[0m\u001b[1;32m   2830\u001b[0m \u001b[0;34m\u001b[0m\u001b[0m\n\u001b[1;32m   2831\u001b[0m   \u001b[0;34m@\u001b[0m\u001b[0mproperty\u001b[0m\u001b[0;34m\u001b[0m\u001b[0;34m\u001b[0m\u001b[0m\n",
            "\u001b[0;32m/usr/local/lib/python3.6/dist-packages/tensorflow/python/eager/function.py\u001b[0m in \u001b[0;36m_filtered_call\u001b[0;34m(self, args, kwargs, cancellation_manager)\u001b[0m\n\u001b[1;32m   1846\u001b[0m                            resource_variable_ops.BaseResourceVariable))],\n\u001b[1;32m   1847\u001b[0m         \u001b[0mcaptured_inputs\u001b[0m\u001b[0;34m=\u001b[0m\u001b[0mself\u001b[0m\u001b[0;34m.\u001b[0m\u001b[0mcaptured_inputs\u001b[0m\u001b[0;34m,\u001b[0m\u001b[0;34m\u001b[0m\u001b[0;34m\u001b[0m\u001b[0m\n\u001b[0;32m-> 1848\u001b[0;31m         cancellation_manager=cancellation_manager)\n\u001b[0m\u001b[1;32m   1849\u001b[0m \u001b[0;34m\u001b[0m\u001b[0m\n\u001b[1;32m   1850\u001b[0m   \u001b[0;32mdef\u001b[0m \u001b[0m_call_flat\u001b[0m\u001b[0;34m(\u001b[0m\u001b[0mself\u001b[0m\u001b[0;34m,\u001b[0m \u001b[0margs\u001b[0m\u001b[0;34m,\u001b[0m \u001b[0mcaptured_inputs\u001b[0m\u001b[0;34m,\u001b[0m \u001b[0mcancellation_manager\u001b[0m\u001b[0;34m=\u001b[0m\u001b[0;32mNone\u001b[0m\u001b[0;34m)\u001b[0m\u001b[0;34m:\u001b[0m\u001b[0;34m\u001b[0m\u001b[0;34m\u001b[0m\u001b[0m\n",
            "\u001b[0;32m/usr/local/lib/python3.6/dist-packages/tensorflow/python/eager/function.py\u001b[0m in \u001b[0;36m_call_flat\u001b[0;34m(self, args, captured_inputs, cancellation_manager)\u001b[0m\n\u001b[1;32m   1922\u001b[0m       \u001b[0;31m# No tape is watching; skip to running the function.\u001b[0m\u001b[0;34m\u001b[0m\u001b[0;34m\u001b[0m\u001b[0;34m\u001b[0m\u001b[0m\n\u001b[1;32m   1923\u001b[0m       return self._build_call_outputs(self._inference_function.call(\n\u001b[0;32m-> 1924\u001b[0;31m           ctx, args, cancellation_manager=cancellation_manager))\n\u001b[0m\u001b[1;32m   1925\u001b[0m     forward_backward = self._select_forward_and_backward_functions(\n\u001b[1;32m   1926\u001b[0m         \u001b[0margs\u001b[0m\u001b[0;34m,\u001b[0m\u001b[0;34m\u001b[0m\u001b[0;34m\u001b[0m\u001b[0m\n",
            "\u001b[0;32m/usr/local/lib/python3.6/dist-packages/tensorflow/python/eager/function.py\u001b[0m in \u001b[0;36mcall\u001b[0;34m(self, ctx, args, cancellation_manager)\u001b[0m\n\u001b[1;32m    548\u001b[0m               \u001b[0minputs\u001b[0m\u001b[0;34m=\u001b[0m\u001b[0margs\u001b[0m\u001b[0;34m,\u001b[0m\u001b[0;34m\u001b[0m\u001b[0;34m\u001b[0m\u001b[0m\n\u001b[1;32m    549\u001b[0m               \u001b[0mattrs\u001b[0m\u001b[0;34m=\u001b[0m\u001b[0mattrs\u001b[0m\u001b[0;34m,\u001b[0m\u001b[0;34m\u001b[0m\u001b[0;34m\u001b[0m\u001b[0m\n\u001b[0;32m--> 550\u001b[0;31m               ctx=ctx)\n\u001b[0m\u001b[1;32m    551\u001b[0m         \u001b[0;32melse\u001b[0m\u001b[0;34m:\u001b[0m\u001b[0;34m\u001b[0m\u001b[0;34m\u001b[0m\u001b[0m\n\u001b[1;32m    552\u001b[0m           outputs = execute.execute_with_cancellation(\n",
            "\u001b[0;32m/usr/local/lib/python3.6/dist-packages/tensorflow/python/eager/execute.py\u001b[0m in \u001b[0;36mquick_execute\u001b[0;34m(op_name, num_outputs, inputs, attrs, ctx, name)\u001b[0m\n\u001b[1;32m     58\u001b[0m     \u001b[0mctx\u001b[0m\u001b[0;34m.\u001b[0m\u001b[0mensure_initialized\u001b[0m\u001b[0;34m(\u001b[0m\u001b[0;34m)\u001b[0m\u001b[0;34m\u001b[0m\u001b[0;34m\u001b[0m\u001b[0m\n\u001b[1;32m     59\u001b[0m     tensors = pywrap_tfe.TFE_Py_Execute(ctx._handle, device_name, op_name,\n\u001b[0;32m---> 60\u001b[0;31m                                         inputs, attrs, num_outputs)\n\u001b[0m\u001b[1;32m     61\u001b[0m   \u001b[0;32mexcept\u001b[0m \u001b[0mcore\u001b[0m\u001b[0;34m.\u001b[0m\u001b[0m_NotOkStatusException\u001b[0m \u001b[0;32mas\u001b[0m \u001b[0me\u001b[0m\u001b[0;34m:\u001b[0m\u001b[0;34m\u001b[0m\u001b[0;34m\u001b[0m\u001b[0m\n\u001b[1;32m     62\u001b[0m     \u001b[0;32mif\u001b[0m \u001b[0mname\u001b[0m \u001b[0;32mis\u001b[0m \u001b[0;32mnot\u001b[0m \u001b[0;32mNone\u001b[0m\u001b[0;34m:\u001b[0m\u001b[0;34m\u001b[0m\u001b[0;34m\u001b[0m\u001b[0m\n",
            "\u001b[0;31mKeyboardInterrupt\u001b[0m: "
          ]
        }
      ]
    }
  ]
}